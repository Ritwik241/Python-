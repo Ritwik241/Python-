{
  "nbformat": 4,
  "nbformat_minor": 0,
  "metadata": {
    "colab": {
      "provenance": []
    },
    "kernelspec": {
      "name": "python3",
      "display_name": "Python 3"
    },
    "language_info": {
      "name": "python"
    }
  },
  "cells": [
    {
      "cell_type": "markdown",
      "source": [
        "# Python\n"
      ],
      "metadata": {
        "id": "-eAbUVopqjWi"
      }
    },
    {
      "cell_type": "markdown",
      "source": [
        "1. Explain the key features of Python that make it a popular choice for programming\n",
        "   - Python has become one of the most popular programming languages in the world, and that’s largely due to a combination of features that make it powerful yet beginner-friendly. Here are the key features that contribute to its popularity:\n",
        "\n",
        "1. Easy to Learn And Read\n",
        "  - Print ('Hello World')\n",
        "  "
      ],
      "metadata": {
        "id": "KgtJb_6iq9aZ"
      }
    }
  ]
}